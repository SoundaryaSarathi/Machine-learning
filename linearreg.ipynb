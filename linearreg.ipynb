{
  "nbformat": 4,
  "nbformat_minor": 0,
  "metadata": {
    "colab": {
      "provenance": [],
      "authorship_tag": "ABX9TyOmnxVYDsbiwcgv7PHiw6Qc",
      "include_colab_link": true
    },
    "kernelspec": {
      "name": "python3",
      "display_name": "Python 3"
    },
    "language_info": {
      "name": "python"
    }
  },
  "cells": [
    {
      "cell_type": "markdown",
      "metadata": {
        "id": "view-in-github",
        "colab_type": "text"
      },
      "source": [
        "<a href=\"https://colab.research.google.com/github/SoundaryaSarathi/Machine-learning/blob/master/linearreg.ipynb\" target=\"_parent\"><img src=\"https://colab.research.google.com/assets/colab-badge.svg\" alt=\"Open In Colab\"/></a>"
      ]
    },
    {
      "cell_type": "code",
      "execution_count": null,
      "metadata": {
        "id": "QGWXwY7RenPG"
      },
      "outputs": [],
      "source": [
        "#linear regression using gradient descent\n",
        "import numpy as np\n",
        "from sklearn.model_selection import train_test_split\n",
        "from sklearn import datasets\n",
        "import matplotlib.pyplot as plt"
      ]
    },
    {
      "cell_type": "code",
      "source": [
        "class Linreg: \n",
        "    def __init__(self,n_features,n_samples,learning_rate=0.01,n_iters=1000):\n",
        "        self.lr = learning_rate\n",
        "        self.n_samples=n_samples\n",
        "        self.n_features=n_features\n",
        "        self.n_iters = n_iters\n",
        "        self.weights = np.zeros((1,n_features))\n",
        "        self.bias = 0\n",
        "    \n",
        "    def y_predict(self,x):\n",
        "        return np.dot(self.weights,x.T)+self.bias\n",
        "    \n",
        "    def gradientdescent(self,x,error):\n",
        "        dw=(1/self.n_samples)*np.dot(error,x)\n",
        "        #print('dw:',dw,dw.shape)\n",
        "        db=(1/self.n_samples)*np.sum(error)\n",
        "        return dw,db\n",
        "        \n",
        "    def updateparam(self,dw,db):\n",
        "        self.weights-=self.lr*dw\n",
        "        self.bias-=self.lr*db\n",
        "   \n",
        "    def fit(self,x,y):\n",
        "      cost_list=[]\n",
        "      for i in range(self.n_iters):\n",
        "        y_predict=self.y_predict(x)\n",
        "        error=y_predict-y\n",
        "        cost=(1/2*self.n_samples)*(np.sum(np.square(error)))\n",
        "        dw,db=self.gradientdescent(x,error)\n",
        "        self.updateparam(dw,db)\n",
        "        cost_list.append(cost)\n",
        "      return cost_list\n",
        "\n",
        " "
      ],
      "metadata": {
        "id": "jbs4m8Qji0HI"
      },
      "execution_count": null,
      "outputs": []
    },
    {
      "cell_type": "code",
      "source": [
        "#generation\n",
        "x,y=datasets.make_regression(n_samples=100,n_features=2,noise=5)\n",
        "x_train, x_test, y_train, y_test = train_test_split(x, y, test_size=0.2, random_state=123)\n",
        "\n",
        "#normalize(x_train)\n",
        "#plotting\n",
        "#fig=plt.figure()\n",
        "#ax = plt.axes(projection =\"3d\")\n",
        "#ax.scatter3D(x_train[:,0],x_train[:,1],y_train)\n",
        "#plt.scatter(x_train,y_train)\n",
        "#plt.show()\n",
        "\n",
        "n_samples,n_features=x_train.shape\n",
        "print('y_train:',y_train)\n",
        "linreg=Linreg(n_features,n_samples,0.01,50)\n",
        "cost_list=linreg.fit(x_train,y_train)\n",
        "print('costlist: ',cost_list)\n",
        "print(\"weights,bias:\",linreg.weights,linreg.bias)\n",
        "\n"
      ],
      "metadata": {
        "colab": {
          "base_uri": "https://localhost:8080/"
        },
        "id": "5730LSbEgZEf",
        "outputId": "60ca6283-873f-4247-9f28-0432cfad5395"
      },
      "execution_count": null,
      "outputs": [
        {
          "output_type": "stream",
          "name": "stdout",
          "text": [
            "y_train: [ -36.7631513    48.04342655  -50.01052718   34.01645206 -159.39751834\n",
            "   24.19791753  -32.40767049    3.23414017  -65.05532842   86.79586949\n",
            "  -33.61112873  115.52129884  143.41607      20.40551351  -52.55210129\n",
            "   66.44788285 -102.64994222 -104.85498915 -238.70355059   74.7438585\n",
            "   57.07014001   55.76242313  -58.20921018  -55.41222784   73.57843287\n",
            "   61.99281711   49.30454537   82.87983234 -220.43802776  144.01235785\n",
            "  127.30153584   23.04249629   -0.36993704   -1.52067456   18.20891029\n",
            "  -11.45032783 -113.10324191   79.06827189   62.67044217  -77.37722027\n",
            "  106.66292436  -74.11861949  147.41724596 -161.09775188   27.55694436\n",
            " -166.05882303    9.04510738  -17.0743485   -50.63745379  -38.26333844\n",
            "  -79.11077381   73.96912892  -53.71053362 -255.62840028   42.78906751\n",
            "  120.98438567    8.78642227   -5.26749317  237.88567093   26.85573886\n",
            "   98.11310179  195.02811482   66.5951873    77.10176039  -58.38283619\n",
            "  -55.73094013  -55.54069406   27.43798526  -64.50149152   40.7483348\n",
            " -234.85493658   71.03448865  -84.90294794 -166.70023567 -172.12958072\n",
            "   37.50802786   83.95384554   40.43245995   84.72145511   21.6443731 ]\n",
            "costlist:  [31506496.75390669, 30857138.68657408, 30221930.78070309, 29600546.19441291, 28992666.078023918, 28397979.368610524, 27816182.59004946, 27246979.65841227, 26690081.69255484, 26145206.82976093, 25612080.046300847, 25090432.98277015, 24580003.774077103, 24080536.883951295, 23591782.943849433, 23113498.596137777, 22645446.341434017, 22187394.389994748, 21739116.5170379, 21300391.921892367, 20871005.09087052, 20450745.663761675, 20039408.303847864, 19636792.5713458, 19242702.80018167, 18856947.978007972, 18479341.62937417, 18109701.70196539, 17747850.4558258, 17393614.355485484, 17046823.964912217, 16707313.845211308, 16374922.454999182, 16049492.053378183, 15730868.605442299, 15418901.690245252, 15113444.411164513, 14814353.30859644, 14521488.27491973, 14234712.471665967, 13953892.248837795, 13678897.0663169, 13409599.417305635, 13145874.753747527, 12887601.413673554, 12634660.550422566, 12386936.063685454, 12144314.532324314, 11906685.148919042, 11673939.655995118]\n",
            "weights,bias: [[29.87337364 25.38737631]] -0.21396760490443661\n"
          ]
        }
      ]
    },
    {
      "cell_type": "code",
      "source": [
        "\n",
        "#illustrating addition of vector to a scalar\n",
        "w=np.array([[1,1],[2,2]])\n",
        "z=w+3\n",
        "print(z)\n",
        "\n"
      ],
      "metadata": {
        "colab": {
          "base_uri": "https://localhost:8080/"
        },
        "id": "Ug46Zr2zBm2T",
        "outputId": "18606101-dcc4-4bc7-e15f-8f64a963f481"
      },
      "execution_count": null,
      "outputs": [
        {
          "output_type": "stream",
          "name": "stdout",
          "text": [
            "[[4 4]\n",
            " [5 5]]\n"
          ]
        }
      ]
    },
    {
      "cell_type": "code",
      "source": [
        "import numpy as np\n",
        "a = np.array([5,4])[np.newaxis]\n",
        "print(a)\n",
        "print(a.T)\n"
      ],
      "metadata": {
        "colab": {
          "base_uri": "https://localhost:8080/"
        },
        "id": "M3zoc68iLdiS",
        "outputId": "a0558c98-6757-4459-936d-54d6a6815683"
      },
      "execution_count": null,
      "outputs": [
        {
          "output_type": "stream",
          "name": "stdout",
          "text": [
            "[[5 4]]\n",
            "[[5]\n",
            " [4]]\n"
          ]
        }
      ]
    }
  ]
}