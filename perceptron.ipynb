{
  "nbformat": 4,
  "nbformat_minor": 0,
  "metadata": {
    "colab": {
      "provenance": [],
      "authorship_tag": "ABX9TyPSoCwqjm2kN6ceGobvxSS8",
      "include_colab_link": true
    },
    "kernelspec": {
      "name": "python3",
      "display_name": "Python 3"
    },
    "language_info": {
      "name": "python"
    }
  },
  "cells": [
    {
      "cell_type": "markdown",
      "metadata": {
        "id": "view-in-github",
        "colab_type": "text"
      },
      "source": [
        "<a href=\"https://colab.research.google.com/github/SoundaryaSarathi/Machine-learning/blob/master/perceptron.ipynb\" target=\"_parent\"><img src=\"https://colab.research.google.com/assets/colab-badge.svg\" alt=\"Open In Colab\"/></a>"
      ]
    },
    {
      "cell_type": "code",
      "execution_count": 6,
      "metadata": {
        "id": "GYoIDkG1coA9"
      },
      "outputs": [],
      "source": [
        "from sklearn.model_selection import train_test_split\n",
        "from sklearn import datasets\n",
        "import numpy as np\n",
        "import matplotlib.pyplot as plt\n"
      ]
    },
    {
      "cell_type": "code",
      "source": [
        "\n",
        "\n",
        "class Perceptron:\n",
        "\n",
        "    def __init__(self, learning_rate=0.01, n_iters=1000):\n",
        "        self.lr = learning_rate\n",
        "        self.n_iters = n_iters\n",
        "        self.activation_func = self._unit_step_func\n",
        "        self.weights = None\n",
        "        self.bias = None\n",
        "\n",
        "    def fit(self, X, y):\n",
        "        n_samples, n_features = X.shape\n",
        "        self.weights = np.zeros(n_features)\n",
        "        self.bias = 0\n",
        "        for i in range(self.n_iters):\n",
        "            for j, x in enumerate(X):\n",
        "                #enumerate returns the index and the object at that index\n",
        "                op=np.dot(x, self.weights) + self.bias \n",
        "                y_predicted = self.activation_func(op)  #update the weigts only if its misclassified\n",
        "                update=self.lr * (y[j] - y_predicted) #update is zero if y[j]==y_predicted else it is 1\n",
        "                self.weights += update * x\n",
        "                self.bias += update\n",
        " \n",
        "    def predict(self, X):\n",
        "        linear_output = np.dot(X, self.weights) + self.bias\n",
        "        y_predicted = self.activation_func(linear_output)\n",
        "        return y_predicted\n",
        "\n",
        "    # Here we are using unit step function\n",
        "    def _unit_step_func(self, x):\n",
        "        return np.where(x >= 0, 1, 0)\n",
        "               \n",
        "\n",
        "       \n"
      ],
      "metadata": {
        "id": "2sJO7Ew3kCw6"
      },
      "execution_count": 9,
      "outputs": []
    },
    {
      "cell_type": "code",
      "source": [
        "if __name__ == \"__main__\":\n",
        "   \n",
        "        def accuracy(y_true, y_pred):\n",
        "            accuracy = np.sum(y_true == y_pred) / len(y_true)\n",
        "            return accuracy\n",
        "        \n",
        "        X, y = datasets.make_blobs(n_samples=100, n_features=2, centers=2, cluster_std=1.05, random_state=2)\n",
        "        X_train, X_test, y_train, y_test = train_test_split(X, y, test_size=0.2, random_state=123)\n",
        "        fig = plt.figure()\n",
        "        plt.scatter(X_train[:, 0], X_train[:, 1], marker=\"o\", c=y_train)\n",
        "        \n",
        "        \n",
        "        #creating a model\n",
        "        p = Perceptron(learning_rate=0.01, n_iters=1000)\n",
        "        p.fit(X_train, y_train)\n",
        "        \n",
        "        #now we created the model (i.e. ) using the training data i found some weighs and biases\n",
        "        #we now test the accuracy of the model using the test data\n",
        "        \n",
        "        predictions = p.predict(X_test)\n",
        "        print(\"predictions,actual:\")\n",
        "        print(predictions)\n",
        "        print(y_test)\n",
        "        print(\"Perceptron classification accuracy\", accuracy(y_test, predictions))\n",
        "        \n",
        "        #plotting\n",
        "       \n",
        "        ax = fig.add_subplot(1, 1, 1)\n",
        "        plt.scatter(X_train[:, 0], X_train[:, 1], marker=\"o\", c=y_train)\n",
        "        \n",
        "        #plotting the hyperplane\n",
        "        xmin = np.amin(X_train[:, 0])\n",
        "        xmax= np.amax(X_train[:, 0])\n",
        "        xm=np.linspace(xmin,xmax,100)\n",
        "        ym=(-p.weights[0] * xm- p.bias) / p.weights[1]\n",
        "        plt.plot(xm,ym,'-r')\n",
        "        plt.show()\n",
        "       \n",
        "       \n",
        "        \n",
        "        \n",
        "        \n",
        "        \n",
        "        \n",
        "    "
      ],
      "metadata": {
        "id": "BjF2fxPUhhCY",
        "colab": {
          "base_uri": "https://localhost:8080/",
          "height": 372
        },
        "outputId": "7a9462e9-107d-4fe1-d731-868ac2e7f4f2"
      },
      "execution_count": 10,
      "outputs": [
        {
          "output_type": "stream",
          "name": "stdout",
          "text": [
            "predictions,actual:\n",
            "[0 1 1 0 1 0 0 0 0 1 0 0 0 1 0 0 0 0 0 1]\n",
            "[0 1 1 0 1 0 0 0 0 1 0 0 0 1 0 0 0 0 0 1]\n",
            "Perceptron classification accuracy 1.0\n"
          ]
        },
        {
          "output_type": "stream",
          "name": "stderr",
          "text": [
            "/usr/local/lib/python3.7/dist-packages/ipykernel_launcher.py:28: MatplotlibDeprecationWarning: Adding an axes using the same arguments as a previous axes currently reuses the earlier instance.  In a future version, a new instance will always be created and returned.  Meanwhile, this warning can be suppressed, and the future behavior ensured, by passing a unique label to each axes instance.\n"
          ]
        },
        {
          "output_type": "display_data",
          "data": {
            "text/plain": [
              "<Figure size 432x288 with 1 Axes>"
            ],
            "image/png": "[encoded data removed]"
          },
          "metadata": {
            "needs_background": "light"
          }
        }
      ]
    }
  ]
}