{
 "cells": [
  {
   "cell_type": "code",
   "execution_count": 2,
   "metadata": {},
   "outputs": [],
   "source": [
    "import numpy\n",
    "import tensorflow\n",
    "import keras\n",
    "import PIL"
   ]
  },
  {
   "cell_type": "code",
   "execution_count": 3,
   "metadata": {},
   "outputs": [
    {
     "name": "stdout",
     "output_type": "stream",
     "text": [
      "Downloading data from https://storage.googleapis.com/tensorflow/tf-keras-datasets/mnist.npz\n",
      "11493376/11490434 [==============================] - 2s 0us/step\n",
      "(60000, 28, 28) (60000,)\n"
     ]
    }
   ],
   "source": [
    "#importing data\n",
    "from keras.datasets import mnist\n",
    "from keras.models import Sequential\n",
    "from keras.layers import Dense, Dropout, Flatten\n",
    "from keras.layers import Conv2D, MaxPooling2D\n",
    "from keras import backend as K\n",
    "# the data, split between train and test sets\n",
    "(x_train, y_train), (x_test, y_test) = mnist.load_data()\n",
    "print(x_train.shape, y_train.shape)"
   ]
  },
  {
   "cell_type": "code",
   "execution_count": 7,
   "metadata": {},
   "outputs": [
    {
     "name": "stdout",
     "output_type": "stream",
     "text": [
      "x_train shape: (60000, 28, 28, 1)\n",
      "60000 train samples\n",
      "10000 test samples\n"
     ]
    }
   ],
   "source": [
    "num_classes = 10\n",
    "\n",
    "#preprocessing\n",
    "x_train=x_train.reshape(x_train.shape[0],28,28,1)\n",
    "x_test=x_test.reshape(x_test.shape[0],28,28,1)\n",
    "input_shape=(28,28,1)\n",
    "\n",
    "y_train=keras.utils.to_categorical(y_train,num_classes)\n",
    "y_test=keras.utils.to_categorical(y_test,num_classes)\n",
    "\n",
    "x_train=x_train.astype('float32')\n",
    "x_test = x_test.astype('float32')\n",
    "x_train /= 255\n",
    "x_test /= 255\n",
    "print('x_train shape:', x_train.shape)\n",
    "print(x_train.shape[0], 'train samples')\n",
    "print(x_test.shape[0], 'test samples')"
   ]
  },
  {
   "cell_type": "code",
   "execution_count": 8,
   "metadata": {},
   "outputs": [],
   "source": [
    "batch_size = 128\n",
    "epochs = 10\n",
    "model = Sequential()\n",
    "model.add(Conv2D(32, kernel_size=(3, 3),activation='relu',input_shape=input_shape))\n",
    "model.add(Conv2D(64, (3, 3), activation='relu'))\n",
    "model.add(MaxPooling2D(pool_size=(2, 2)))\n",
    "model.add(Dropout(0.25))\n",
    "model.add(Flatten())\n",
    "model.add(Dense(256, activation='relu'))\n",
    "model.add(Dropout(0.5))\n",
    "model.add(Dense(num_classes, activation='softmax'))\n",
    "model.compile(loss=keras.losses.categorical_crossentropy,optimizer=keras.optimizers.Adadelta(),metrics=['accuracy'])"
   ]
  },
  {
   "cell_type": "code",
   "execution_count": 9,
   "metadata": {},
   "outputs": [
    {
     "name": "stdout",
     "output_type": "stream",
     "text": [
      "Epoch 1/10\n",
      "469/469 [==============================] - 64s 137ms/step - loss: 2.2753 - accuracy: 0.1541 - val_loss: 2.2253 - val_accuracy: 0.3510\n",
      "Epoch 2/10\n",
      "469/469 [==============================] - 66s 141ms/step - loss: 2.1943 - accuracy: 0.3052 - val_loss: 2.1261 - val_accuracy: 0.6144\n",
      "Epoch 3/10\n",
      "469/469 [==============================] - 68s 144ms/step - loss: 2.0918 - accuracy: 0.4412 - val_loss: 1.9948 - val_accuracy: 0.7046\n",
      "Epoch 4/10\n",
      "469/469 [==============================] - 66s 141ms/step - loss: 1.9542 - accuracy: 0.5366 - val_loss: 1.8198 - val_accuracy: 0.7485\n",
      "Epoch 5/10\n",
      "469/469 [==============================] - 66s 141ms/step - loss: 1.7749 - accuracy: 0.5925 - val_loss: 1.5986 - val_accuracy: 0.7794\n",
      "Epoch 6/10\n",
      "469/469 [==============================] - 72s 153ms/step - loss: 1.5655 - accuracy: 0.6379 - val_loss: 1.3526 - val_accuracy: 0.7969\n",
      "Epoch 7/10\n",
      "469/469 [==============================] - 69s 146ms/step - loss: 1.3537 - accuracy: 0.6716 - val_loss: 1.1242 - val_accuracy: 0.8119\n",
      "Epoch 8/10\n",
      "469/469 [==============================] - 67s 143ms/step - loss: 1.1763 - accuracy: 0.6946 - val_loss: 0.9430 - val_accuracy: 0.8246\n",
      "Epoch 9/10\n",
      "469/469 [==============================] - 67s 142ms/step - loss: 1.0383 - accuracy: 0.7160 - val_loss: 0.8109 - val_accuracy: 0.8349\n",
      "Epoch 10/10\n",
      "469/469 [==============================] - 70s 150ms/step - loss: 0.9341 - accuracy: 0.7362 - val_loss: 0.7146 - val_accuracy: 0.8446\n",
      "The model has successfully trained\n",
      "Saving the model as mnist.h5\n"
     ]
    }
   ],
   "source": [
    "hist = model.fit(x_train, y_train,batch_size=batch_size,epochs=epochs,verbose=1,validation_data=(x_test, y_test))\n",
    "print(\"The model has successfully trained\")\n",
    "model.save('mnist.h5')\n",
    "print(\"Saving the model as mnist.h5\")"
   ]
  },
  {
   "cell_type": "code",
   "execution_count": 10,
   "metadata": {},
   "outputs": [
    {
     "name": "stdout",
     "output_type": "stream",
     "text": [
      "Test loss: 0.7146269679069519\n",
      "Test accuracy: 0.8446000218391418\n"
     ]
    }
   ],
   "source": [
    "score = model.evaluate(x_test, y_test, verbose=0)\n",
    "print('Test loss:', score[0])\n",
    "print('Test accuracy:', score[1])"
   ]
  },
  {
   "cell_type": "code",
   "execution_count": null,
   "metadata": {},
   "outputs": [],
   "source": []
  }
 ],
 "metadata": {
  "kernelspec": {
   "display_name": "Python 3",
   "language": "python",
   "name": "python3"
  },
  "language_info": {
   "codemirror_mode": {
    "name": "ipython",
    "version": 3
   },
   "file_extension": ".py",
   "mimetype": "text/x-python",
   "name": "python",
   "nbconvert_exporter": "python",
   "pygments_lexer": "ipython3",
   "version": "3.7.6"
  }
 },
 "nbformat": 4,
 "nbformat_minor": 4
}
