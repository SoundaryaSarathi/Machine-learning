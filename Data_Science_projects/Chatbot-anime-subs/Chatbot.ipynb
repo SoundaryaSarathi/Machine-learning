{
 "cells": [
  {
   "cell_type": "code",
   "execution_count": null,
   "metadata": {},
   "outputs": [],
   "source": [
    "import pandas as pd\n",
    "import numpy as np\n",
    "\n",
    "from sklearn.feature_extraction.text import TfidfVectorizer\n",
    "from sklearn.decomposition import TruncatedSVD\n",
    "\n",
    "from sklearn.neighbors import BallTree\n",
    "from sklearn.base import BaseEstimator\n",
    "\n",
    "from sklearn.pipeline import make_pipeline\n",
    "\n",
    "import warnings\n",
    "warnings.filterwarnings(\"ignore\")\n"
   ]
  },
  {
   "cell_type": "code",
   "execution_count": null,
   "metadata": {},
   "outputs": [],
   "source": [
    "lines = [line.rstrip('\\n').replace('\\\\n',' ').replace('>','') for line in open('input (Cleaned).txt')]"
   ]
  },
  {
   "cell_type": "code",
   "execution_count": null,
   "metadata": {},
   "outputs": [],
   "source": [
    "subtitles = pd.DataFrame(columns=['context', 'reply'])\n",
    "subtitles['context'] = lines\n",
    "subtitles['context'] = subtitles['context'].apply(lambda x: x.lower())\n",
    "subtitles['reply'] = lines[1:] + ['...']\n",
    "subtitles['reply'] = subtitles['reply'].apply(lambda x: x.lower())"
   ]
  },
  {
   "cell_type": "code",
   "execution_count": null,
   "metadata": {},
   "outputs": [],
   "source": [
    "for sign in ['!', '?', ',', '.', ':']:\n",
    "    subtitles['context'] = subtitles['context'].apply(lambda x: x.replace(sign, f' {sign}'))\n",
    "    subtitles['reply'] = subtitles['reply'].apply(lambda x: x.replace(sign, f' {sign}'))"
   ]
  },
  {
   "cell_type": "code",
   "execution_count": null,
   "metadata": {},
   "outputs": [],
   "source": [
    "subtitles.info()"
   ]
  },
  {
   "cell_type": "code",
   "execution_count": null,
   "metadata": {},
   "outputs": [],
   "source": [
    "vectorizer = TfidfVectorizer()\n",
    "vectorizer.fit(subtitles.context)\n",
    "\n",
    "matrix_big = vectorizer.transform(subtitles.context)"
   ]
  },
  {
   "cell_type": "code",
   "execution_count": null,
   "metadata": {},
   "outputs": [],
   "source": [
    "# SVD dimensionality reduction\n",
    "# You may try to increase number of components, but performance will become lower and may rise memory error\n",
    "svd = TruncatedSVD(n_components=150, algorithm='randomized')\n",
    "\n",
    "svd.fit(matrix_big)\n",
    "matrix_small = svd.transform(matrix_big)\n",
    "\n",
    "# Print new dimensionality and explained variance ratio\n",
    "print(matrix_small.shape)\n",
    "print(svd.explained_variance_ratio_.sum())"
   ]
  },
  {
   "cell_type": "code",
   "execution_count": null,
   "metadata": {},
   "outputs": [],
   "source": [
    "# Probability  function for choosing one of the relevant answers\n",
    "def softmax(x):\n",
    "    proba = np.exp(-x)\n",
    "    return proba/sum(proba)\n",
    "\n",
    "# Choosing one of the k nearest neighbors with BallTree algorithm\n",
    "class NeighborSampler(BaseEstimator):\n",
    "    def __init__(self, k=5, temperature = 1.0):\n",
    "        self.k = k\n",
    "        self.temperature = temperature\n",
    "    \n",
    "    def fit(self, X, y):\n",
    "        self.tree_ = BallTree(X)\n",
    "        self.y_ = np.array(y)\n",
    "        \n",
    "    def predict(self, X, random_state = None):\n",
    "        distances, indeces = self.tree_.query(X, return_distance = True, k = self.k)\n",
    "        result = []\n",
    "        for distance, index in zip(distances, indeces):\n",
    "            result.append(np.random.choice(index, p = softmax(distance * self.temperature)))\n",
    "            \n",
    "        return self.y_[result]"
   ]
  },
  {
   "cell_type": "code",
   "execution_count": null,
   "metadata": {},
   "outputs": [],
   "source": [
    "ns = NeighborSampler()\n",
    "ns.fit(matrix_small, subtitles.reply)\n",
    "\n",
    "# Vectorize, SVD and then chose an answer\n",
    "pipe = make_pipeline(vectorizer, svd, ns)"
   ]
  },
  {
   "cell_type": "code",
   "execution_count": null,
   "metadata": {},
   "outputs": [],
   "source": [
    "bot=pipe.predict"
   ]
  },
  {
   "cell_type": "code",
   "execution_count": null,
   "metadata": {},
   "outputs": [],
   "source": [
    "print(bot(['hi']))"
   ]
  }
 ],
 "metadata": {
  "kernelspec": {
   "display_name": "Python 3",
   "language": "python",
   "name": "python3"
  },
  "language_info": {
   "codemirror_mode": {
    "name": "ipython",
    "version": 3
   },
   "file_extension": ".py",
   "mimetype": "text/x-python",
   "name": "python",
   "nbconvert_exporter": "python",
   "pygments_lexer": "ipython3",
   "version": "3.7.6"
  }
 },
 "nbformat": 4,
 "nbformat_minor": 4
}
